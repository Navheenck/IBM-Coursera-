{
 "cells": [
  {
   "cell_type": "markdown",
   "id": "b02266bb-b28f-4477-b90b-b3428957a14d",
   "metadata": {},
   "source": [
    "# Data Science Tools and Ecosystem"
   ]
  },
  {
   "cell_type": "markdown",
   "id": "98b13b8a-5ce2-45e5-8180-3aecbc8de47d",
   "metadata": {},
   "source": [
    "##### In this notebook, Data Science Tools and Ecosystem are summarized"
   ]
  },
  {
   "cell_type": "markdown",
   "id": "48667224-774a-4fbd-ab8a-16c84ee406d7",
   "metadata": {},
   "source": [
    "###### Some of the popular languages that Data Scientists use are:\n",
    "1. Python\n",
    "2. R\n",
    "3. Julia\n",
    "4. SQL"
   ]
  },
  {
   "cell_type": "markdown",
   "id": "bee0bb37-8487-4508-8a3d-7aa8311854f9",
   "metadata": {},
   "source": [
    "###### Some of the commonly used libraries used by Data Scientists include:\n",
    "1. Pandas\n",
    "2. numpy\n",
    "3. Seaborn\n",
    "4. Matplotlib\n",
    "5. Scikit-learn\n"
   ]
  },
  {
   "cell_type": "markdown",
   "id": "c6aec885-7925-433d-8c41-4f1b8e7e0ffd",
   "metadata": {},
   "source": [
    "| S.NO | DataScienceTools |\n",
    "| ----- | --------------- |\n",
    "| 1 | JupyterNotebook |\n",
    "| 2 | RStudio |\n",
    "| 3 | GitHub |\n",
    "| 4 | GoodleColab |"
   ]
  },
  {
   "cell_type": "markdown",
   "id": "6cb521bd-b450-4bed-9b95-ca88bf47a426",
   "metadata": {},
   "source": [
    "### Below are a few examples of evaluating arithmetic expressions in Python"
   ]
  },
  {
   "cell_type": "code",
   "execution_count": 1,
   "id": "239f7126-cd0d-4275-837c-eb6aa203ea0d",
   "metadata": {
    "tags": []
   },
   "outputs": [
    {
     "data": {
      "text/plain": [
       "17"
      ]
     },
     "execution_count": 1,
     "metadata": {},
     "output_type": "execute_result"
    }
   ],
   "source": [
    "(3*4)+5"
   ]
  },
  {
   "cell_type": "code",
   "execution_count": 2,
   "id": "db351939-f6f6-43e7-a560-78f7d06ceaee",
   "metadata": {
    "tags": []
   },
   "outputs": [
    {
     "name": "stdout",
     "output_type": "stream",
     "text": [
      "3\n"
     ]
    }
   ],
   "source": [
    "m=200\n",
    "h=m/60\n",
    "print(int(h))\n"
   ]
  },
  {
   "cell_type": "markdown",
   "id": "0cce5865-8fa4-4390-87a7-17569a379d35",
   "metadata": {},
   "source": [
    "Objectives:\n",
    "- DSLanguages\n",
    "- DSLibraries\n",
    "- DSTools"
   ]
  },
  {
   "cell_type": "markdown",
   "id": "e3ecd3b4-460f-4dc4-8570-49db213da7c5",
   "metadata": {},
   "source": [
    "## Author\n",
    "\n",
    "Navheen"
   ]
  },
  {
   "cell_type": "code",
   "execution_count": null,
   "id": "8b0aa919-48dc-48a0-bb9f-6f25620311fb",
   "metadata": {},
   "outputs": [],
   "source": []
  }
 ],
 "metadata": {
  "kernelspec": {
   "display_name": "Python",
   "language": "python",
   "name": "conda-env-python-py"
  },
  "language_info": {
   "codemirror_mode": {
    "name": "ipython",
    "version": 3
   },
   "file_extension": ".py",
   "mimetype": "text/x-python",
   "name": "python",
   "nbconvert_exporter": "python",
   "pygments_lexer": "ipython3",
   "version": "3.7.12"
  }
 },
 "nbformat": 4,
 "nbformat_minor": 5
}
