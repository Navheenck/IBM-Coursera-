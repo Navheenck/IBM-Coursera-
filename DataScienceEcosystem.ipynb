{
 "cells": [
  {
   "cell_type": "markdown",
   "id": "ccc11d5b-0cec-42c4-b8d6-8d2390f2f2d8",
   "metadata": {},
   "source": [
    "Data Science Tools and Ecosystem"
   ]
  },
  {
   "cell_type": "markdown",
   "id": "6334b2a0-d098-4a3b-be8f-b57ed30f878b",
   "metadata": {},
   "source": [
    "Introduction:\n",
    "In this notebook, Data Science Tools and Ecosystem are summarized."
   ]
  },
  {
   "cell_type": "markdown",
   "id": "d74dbd0e-f6a8-47d8-8224-fbe0daeda11b",
   "metadata": {},
   "source": [
    "Some of the popular languages that Data Scientists use are:\n",
    " - Python\n",
    " - R\n",
    " - Julia\n",
    "    "
   ]
  },
  {
   "cell_type": "markdown",
   "id": "904afb55-5116-4e6a-ac73-9d7524b4d8ad",
   "metadata": {},
   "source": [
    "Some of the commonly used libraries used by Data Scientists include:\n",
    "- Tensorflow\n",
    "- Pandas\n",
    "- numPy\n",
    "- Scikit-Learn\n",
    "- Matplotlib\n",
    "- Seaborn\n",
    "- keras"
   ]
  },
  {
   "cell_type": "markdown",
   "id": "6125cd12-e17d-4cc5-aac6-c88454ce49fb",
   "metadata": {},
   "source": [
    "| S.no | Tools |\n",
    "| ------ | ------ |\n",
    "| 1 | Python |\n",
    "| 2 | R |\n",
    "| 3 | Julia |"
   ]
  },
  {
   "cell_type": "markdown",
   "id": "e6c455d3-32be-498a-b1ac-ebf2a6239fc0",
   "metadata": {},
   "source": [
    "Below are a few examples of evaluating arithmetic expressions in Python\n",
    "- (a+b)*c\n",
    "- (a-b)+c\n",
    "- (a/b)-c"
   ]
  },
  {
   "cell_type": "code",
   "execution_count": 1,
   "id": "4c86f6f9-9317-410e-8a98-b24b3bfc3ac7",
   "metadata": {
    "tags": []
   },
   "outputs": [
    {
     "data": {
      "text/plain": [
       "17"
      ]
     },
     "execution_count": 1,
     "metadata": {},
     "output_type": "execute_result"
    }
   ],
   "source": [
    "(3*4)+5"
   ]
  },
  {
   "cell_type": "code",
   "execution_count": 2,
   "id": "598afbde-7007-49bd-ab6f-68f0f3b8ac2a",
   "metadata": {
    "tags": []
   },
   "outputs": [
    {
     "name": "stdout",
     "output_type": "stream",
     "text": [
      "3.3333333333333335\n"
     ]
    }
   ],
   "source": [
    "m=200\n",
    "h=m/60\n",
    "print(h)"
   ]
  },
  {
   "cell_type": "markdown",
   "id": "6452a2d8-0622-4340-9fe7-51941dc2a46a",
   "metadata": {},
   "source": [
    "Objectives:\n",
    "- Tools\n",
    "- Language\n",
    "- Code\n",
    "- Arithmetic Expressiom"
   ]
  },
  {
   "cell_type": "markdown",
   "id": "894eecb8-0939-4812-b91f-3ca4ecce3549",
   "metadata": {},
   "source": [
    "Author\n",
    "- Navheen"
   ]
  },
  {
   "cell_type": "code",
   "execution_count": null,
   "id": "d2a3086e-fab3-490b-80e9-fca2acd62d74",
   "metadata": {},
   "outputs": [],
   "source": []
  }
 ],
 "metadata": {
  "kernelspec": {
   "display_name": "Python",
   "language": "python",
   "name": "conda-env-python-py"
  },
  "language_info": {
   "codemirror_mode": {
    "name": "ipython",
    "version": 3
   },
   "file_extension": ".py",
   "mimetype": "text/x-python",
   "name": "python",
   "nbconvert_exporter": "python",
   "pygments_lexer": "ipython3",
   "version": "3.7.12"
  }
 },
 "nbformat": 4,
 "nbformat_minor": 5
}
